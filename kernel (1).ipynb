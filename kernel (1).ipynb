{
  "cells": [
    {
      "metadata": {
        "_cell_guid": "79c7e3d0-c299-4dcb-8224-4455121ee9b0",
        "collapsed": true,
        "_uuid": "d629ff2d2480ee46fbb7e2d37f6b5fab8052498a",
        "trusted": false
      },
      "cell_type": "markdown",
      "source": "---\ntitle: pandas DataFrame\n---"
    },
    {
      "metadata": {
        "_uuid": "5899a6232942438e38b5b0f3e1201fc77f62a570"
      },
      "cell_type": "markdown",
      "source": "## DataFrame"
    },
    {
      "metadata": {
        "_uuid": "f81d08b9607e183881733f39d09439e8a9878105"
      },
      "cell_type": "markdown",
      "source": "In this section we will have a detailed look on the other important data-type of pandas DataFrame. In pandas, DataFrame is used as an object to represent multi-dimentional data. They are mainly used to repersent 2 dimensional or tabluar data with rows and columns. They can also be called as collection of `Series`.  \n\nDataFrame also supports 3-D data using the multi index properties. It will be the replacement for the old and now existing `panel` object. A 3-D DataFrame can consist of multiple 2-D dataframes."
    },
    {
      "metadata": {
        "_uuid": "03ccb68b50ec17eed5a67691a3b66b24c9d01cb6"
      },
      "cell_type": "markdown",
      "source": "### Basic syntax of DataFrame"
    },
    {
      "metadata": {
        "trusted": true,
        "_uuid": "53bc10395a2d026b54df430838f6078e7c2279d3"
      },
      "cell_type": "code",
      "source": "pandas.DataFrame(data=None, index=None, columns=None, dtype=None, copy=False)",
      "execution_count": 2,
      "outputs": []
    },
    {
      "metadata": {
        "_uuid": "1c0b48cd6f06727073f8861bc276a7cee4338723"
      },
      "cell_type": "markdown",
      "source": "`Data`  : ndarray, dict,Series, another dataframe\n\n`index`  : array-like or index. default to RangeIndex(1,2,3 . . n). Represents the index label.\n\n`columns`  : array-like or index. default to RangeIndex(1,2,3 . . n). Represents the column label.\n\n`dtype`  : dtype, default None. Data type of the DataFrame "
    },
    {
      "metadata": {
        "_uuid": "fc77d457498e2ade8db58a255fc1a5c9e44b3233"
      },
      "cell_type": "markdown",
      "source": "### Creating DataFrame in different ways:"
    },
    {
      "metadata": {
        "_uuid": "d27097bee97bda3d1930f0c861ea1fc13f50da6a"
      },
      "cell_type": "markdown",
      "source": "As a first step lets import our pandas module:"
    },
    {
      "metadata": {
        "trusted": true,
        "_uuid": "d53188957622b141b88a852a4d58f49abe3f1093"
      },
      "cell_type": "code",
      "source": "import pandas as pd",
      "execution_count": 34,
      "outputs": []
    },
    {
      "metadata": {
        "_uuid": "5d4b1923361b29a8bdb2a664537c27b1cfe3148f"
      },
      "cell_type": "markdown",
      "source": "### Create an empty DataFrame:"
    },
    {
      "metadata": {
        "trusted": true,
        "_uuid": "0ea1ef9df9740c7e24c4072f8cfcfd3fe38e0a80",
        "scrolled": true
      },
      "cell_type": "code",
      "source": "df = pd.DataFrame()\nprint(df)",
      "execution_count": 37,
      "outputs": [
        {
          "output_type": "stream",
          "text": "Empty DataFrame\nColumns: []\nIndex: []\n",
          "name": "stdout"
        }
      ]
    },
    {
      "metadata": {
        "_uuid": "0e0f1ab2431c45ba7e118880c46bede06f537a20"
      },
      "cell_type": "markdown",
      "source": "### Create using a list:"
    },
    {
      "metadata": {
        "trusted": true,
        "_uuid": "48762a1b6f5cdfc713ced53d02727b93abe1b68f"
      },
      "cell_type": "code",
      "source": "input_data = [['Mark',87],['Tom',78],['Monika',97]]\ndf = pd.DataFrame(data = input_data)\nprint(df)",
      "execution_count": 38,
      "outputs": [
        {
          "output_type": "stream",
          "text": "        0   1\n0    Mark  87\n1     Tom  78\n2  Monika  97\n",
          "name": "stdout"
        }
      ]
    },
    {
      "metadata": {
        "trusted": true,
        "_uuid": "9af841373e67b84487044210a47d8284816419df"
      },
      "cell_type": "code",
      "source": "print('DataFrame with column and row index labels:')\nroll_no = [223,224,225]\ndf = pd.DataFrame(data= input_data,index= roll_no,\n             columns=['Name','Score'])\nprint(df)",
      "execution_count": 39,
      "outputs": [
        {
          "output_type": "stream",
          "text": "DataFrame with column and row index labels:\n       Name  Score\n223    Mark     87\n224     Tom     78\n225  Monika     97\n",
          "name": "stdout"
        }
      ]
    },
    {
      "metadata": {
        "_uuid": "ce80650d5fbbf2df241006901eaea7d76c37b7d8"
      },
      "cell_type": "markdown",
      "source": "### Create using a dict:"
    },
    {
      "metadata": {
        "trusted": true,
        "_uuid": "e0bebdf09247a9f86b51f79e24426aea351be7b0"
      },
      "cell_type": "code",
      "source": "input_data = {'Name': ['Mark','Tom','Monika'],\n              'Score': [87,78,97]}\ndf =pd.DataFrame(data=input_data,dtype= float)         # Notice that the score is change to float.\nprint(df)",
      "execution_count": 40,
      "outputs": [
        {
          "output_type": "stream",
          "text": "     Name  Score\n0    Mark   87.0\n1     Tom   78.0\n2  Monika   97.0\n",
          "name": "stdout"
        }
      ]
    },
    {
      "metadata": {
        "_uuid": "fea6d0e787e836a680f1d6cb2171e978bc1db038"
      },
      "cell_type": "markdown",
      "source": "### Create using a list of dict:"
    },
    {
      "metadata": {
        "trusted": true,
        "_uuid": "46d0fe05cc498e6d5c725f8c828f66794ba2a0b5"
      },
      "cell_type": "code",
      "source": "input_data = [{'Name': 'Mark','Score': 87},\n              {'Name': 'Tom','Score': 78},\n              {'Name': 'Monika', 'Score': 97}]\ndf = pd.DataFrame(data= input_data, index=roll_no)\nprint(df)",
      "execution_count": 41,
      "outputs": [
        {
          "output_type": "stream",
          "text": "       Name  Score\n223    Mark     87\n224     Tom     78\n225  Monika     97\n",
          "name": "stdout"
        }
      ]
    },
    {
      "metadata": {
        "_uuid": "d0521fd49a64e4550a1cbf4db57d86c5c967b14d"
      },
      "cell_type": "markdown",
      "source": "### Create using a dict of Series:"
    },
    {
      "metadata": {
        "trusted": true,
        "scrolled": true,
        "_uuid": "de15ff04cca462c48eefc1fa616d1128d981dc8f"
      },
      "cell_type": "code",
      "source": "input_data = {'Name': pd.Series(['Mark','Tom','Monika','John']),\n              'Score': pd.Series([87,78,97])}\ndf = pd.DataFrame(input_data)\nprint(df)",
      "execution_count": 42,
      "outputs": [
        {
          "output_type": "stream",
          "text": "     Name  Score\n0    Mark   87.0\n1     Tom   78.0\n2  Monika   97.0\n3    John    NaN\n",
          "name": "stdout"
        }
      ]
    },
    {
      "metadata": {
        "_uuid": "e2cfb9e131b9f75a6db96b37a44c25fdf419acf0"
      },
      "cell_type": "markdown",
      "source": "Notice the above output, For John the score is NaN(not a number). In pandas empty values are defaulted with numpy.nan."
    },
    {
      "metadata": {
        "_uuid": "17ba0e2140d3904d0367a59d1b7e1ce9f94df548"
      },
      "cell_type": "markdown",
      "source": "### DataFrame Manipulations:"
    },
    {
      "metadata": {
        "_uuid": "719ca3ccbb9c641362b241db9dca536ea32404a2"
      },
      "cell_type": "markdown",
      "source": "Now that we have a comprehensive idea on how to create a DataFrame and different kind of inputs we can use to create it. Lets move on to different manupulation operations we can do with a DataFrame."
    },
    {
      "metadata": {
        "_uuid": "31e29483bff8005c335b1d77ac0742ed02979684"
      },
      "cell_type": "markdown",
      "source": "### Column Manipulation:"
    },
    {
      "metadata": {
        "_uuid": "5909ed28b1a1b1634180c46311e491c63e2224ba"
      },
      "cell_type": "markdown",
      "source": "Here we will discuss about below operation on the column level:\n* Column selection\n* Column addition\n* Column deletion"
    },
    {
      "metadata": {
        "trusted": true,
        "_uuid": "d22963f437de0f49adafaaa997e30b85046de581"
      },
      "cell_type": "code",
      "source": "score_sheet = {'Name': pd.Series(['Mark','Tom','Monika','Lilly','Sam']),\n               'Maths': pd.Series([89,87,83,78,77]),\n               'Science': pd.Series([78,88,66,0,88])}\nDF = pd.DataFrame(score_sheet)\nprint(DF)",
      "execution_count": 43,
      "outputs": [
        {
          "output_type": "stream",
          "text": "     Name  Maths  Science\n0    Mark     89       78\n1     Tom     87       88\n2  Monika     83       66\n3   Lilly     78        0\n4     Sam     77       88\n",
          "name": "stdout"
        }
      ]
    },
    {
      "metadata": {
        "_uuid": "2851da3ccb3fb3e40316e5ba129af8e5116fa46e"
      },
      "cell_type": "markdown",
      "source": "### Column selection:"
    },
    {
      "metadata": {
        "trusted": true,
        "_uuid": "cb29dec3a044e29a92d9349d13709b2cb6e653d9"
      },
      "cell_type": "code",
      "source": "DF['Name']             # Selcting a particular column",
      "execution_count": 44,
      "outputs": [
        {
          "output_type": "execute_result",
          "execution_count": 44,
          "data": {
            "text/plain": "0      Mark\n1       Tom\n2    Monika\n3     Lilly\n4       Sam\nName: Name, dtype: object"
          },
          "metadata": {}
        }
      ]
    },
    {
      "metadata": {
        "trusted": true,
        "scrolled": true,
        "_uuid": "35a6ce821dba193c1c76505ce1360d4677a73670"
      },
      "cell_type": "code",
      "source": "type(DF['Maths'])",
      "execution_count": 45,
      "outputs": [
        {
          "output_type": "execute_result",
          "execution_count": 45,
          "data": {
            "text/plain": "pandas.core.series.Series"
          },
          "metadata": {}
        }
      ]
    },
    {
      "metadata": {
        "_uuid": "37e51643aba3ee1371b6dfa3dfb2081f126e2990"
      },
      "cell_type": "markdown",
      "source": "You can notice that each column in a DataFrame is considered as a Series and it supports all the Series type operations.  Example:`"
    },
    {
      "metadata": {
        "trusted": true,
        "_uuid": "b736a56cc1557a6dda0b61bb17871a9b1850beec"
      },
      "cell_type": "code",
      "source": "DF['Maths'].max()      # Finding the max score in maths",
      "execution_count": 46,
      "outputs": [
        {
          "output_type": "execute_result",
          "execution_count": 46,
          "data": {
            "text/plain": "89"
          },
          "metadata": {}
        }
      ]
    },
    {
      "metadata": {
        "trusted": true,
        "_uuid": "b018bb5af8009045f31cc795b02b118c299d9332"
      },
      "cell_type": "code",
      "source": "math = DF[['Name','Maths']]    # Selcting multiple column\nprint(math)",
      "execution_count": 47,
      "outputs": [
        {
          "output_type": "stream",
          "text": "     Name  Maths\n0    Mark     89\n1     Tom     87\n2  Monika     83\n3   Lilly     78\n4     Sam     77\n",
          "name": "stdout"
        }
      ]
    },
    {
      "metadata": {
        "_uuid": "acf5020eb7b70673ab2e5867c3d6fe09e2a13063"
      },
      "cell_type": "markdown",
      "source": "### Column addition:"
    },
    {
      "metadata": {
        "trusted": true,
        "_uuid": "c88b9371ffdf882d99937c69c4b7c22ca984c3a6"
      },
      "cell_type": "code",
      "source": "DF['English'] = pd.Series([88,89,98,88,0])   # Adding a new subject English.\nprint(DF)",
      "execution_count": 48,
      "outputs": [
        {
          "output_type": "stream",
          "text": "     Name  Maths  Science  English\n0    Mark     89       78       88\n1     Tom     87       88       89\n2  Monika     83       66       98\n3   Lilly     78        0       88\n4     Sam     77       88        0\n",
          "name": "stdout"
        }
      ]
    },
    {
      "metadata": {
        "trusted": true,
        "_uuid": "715a8ace4ba1087f91e700c6563edebef163cbac"
      },
      "cell_type": "code",
      "source": "DF['Total Score'] = DF['Maths'] + DF['Science'] + DF['English']\nprint(DF)",
      "execution_count": 49,
      "outputs": [
        {
          "output_type": "stream",
          "text": "     Name  Maths  Science  English  Total Score\n0    Mark     89       78       88          255\n1     Tom     87       88       89          264\n2  Monika     83       66       98          247\n3   Lilly     78        0       88          166\n4     Sam     77       88        0          165\n",
          "name": "stdout"
        }
      ]
    },
    {
      "metadata": {
        "_uuid": "05717f8ac0a4ea88a6abf5414d05bbf646063d3b"
      },
      "cell_type": "markdown",
      "source": "### Column deletion:"
    },
    {
      "metadata": {
        "trusted": true,
        "_uuid": "02b8e32a04bcfe159d674d48a6c49c5227ea85bb"
      },
      "cell_type": "code",
      "source": "#Using the del function:\ndel DF['English']\nprint(DF)",
      "execution_count": 50,
      "outputs": [
        {
          "output_type": "stream",
          "text": "     Name  Maths  Science  Total Score\n0    Mark     89       78          255\n1     Tom     87       88          264\n2  Monika     83       66          247\n3   Lilly     78        0          166\n4     Sam     77       88          165\n",
          "name": "stdout"
        }
      ]
    },
    {
      "metadata": {
        "trusted": true,
        "_uuid": "bca5ccdc69fdf165af5bac269dbd42869ec6ad0e"
      },
      "cell_type": "code",
      "source": "#Using the pop method:\nDF.pop('Total Score')\nprint(DF)",
      "execution_count": 51,
      "outputs": [
        {
          "output_type": "stream",
          "text": "     Name  Maths  Science\n0    Mark     89       78\n1     Tom     87       88\n2  Monika     83       66\n3   Lilly     78        0\n4     Sam     77       88\n",
          "name": "stdout"
        }
      ]
    },
    {
      "metadata": {
        "_uuid": "8337112fbee14863eeb3f3d10c86cf90c6757615"
      },
      "cell_type": "markdown",
      "source": "### Row Manipulation:"
    },
    {
      "metadata": {
        "_uuid": "be7fcf1b679c8ea79cea1ad8ae91bf9ef4ca2876"
      },
      "cell_type": "markdown",
      "source": "As like colum we have the similar operation for rows as well. Now we will disscuss about those operations in row level in detail. We will use the same `DataFrame` DF we have created before."
    },
    {
      "metadata": {
        "_uuid": "31febb4bb0243a8b9425134e47b768ab5e5937dd"
      },
      "cell_type": "markdown",
      "source": "### Row selection:"
    },
    {
      "metadata": {
        "_uuid": "95025ff0637525e65ce7482ab9a51b9847b36a72"
      },
      "cell_type": "markdown",
      "source": "There are two method availabel in DataFrame for selection. They are .iloc() and .loc().\n\n* .iloc() method is used to select based on position.\n* loc() method is used to select based on the label value.\n\nNow we will see about the .iloc() method."
    },
    {
      "metadata": {
        "trusted": true,
        "_uuid": "5fb2422ad4a43f49cef0261cc78ca10ed8a3b7e8"
      },
      "cell_type": "code",
      "source": "DF.iloc[2]              #retruns the 2nd row.",
      "execution_count": 52,
      "outputs": [
        {
          "output_type": "execute_result",
          "execution_count": 52,
          "data": {
            "text/plain": "Name       Monika\nMaths          83\nScience        66\nName: 2, dtype: object"
          },
          "metadata": {}
        }
      ]
    },
    {
      "metadata": {
        "trusted": true,
        "_uuid": "18f797cde3dee721c216716ba77d8c5bdf02d620"
      },
      "cell_type": "code",
      "source": "type(DF.iloc[3])",
      "execution_count": 53,
      "outputs": [
        {
          "output_type": "execute_result",
          "execution_count": 53,
          "data": {
            "text/plain": "pandas.core.series.Series"
          },
          "metadata": {}
        }
      ]
    },
    {
      "metadata": {
        "_uuid": "9876febadda62903e67975823d451c587540cef5"
      },
      "cell_type": "markdown",
      "source": "The important thing to notice here is that it returns a series again. Not just the column is retruned as a Series , rows as well."
    },
    {
      "metadata": {
        "trusted": true,
        "_uuid": "b07495584c4585754b78169bed3cea36900d92fb"
      },
      "cell_type": "code",
      "source": "print(DF[2:4])           # Sliceing the rows ",
      "execution_count": 54,
      "outputs": [
        {
          "output_type": "stream",
          "text": "     Name  Maths  Science\n2  Monika     83       66\n3   Lilly     78        0\n",
          "name": "stdout"
        }
      ]
    },
    {
      "metadata": {
        "_uuid": "314ae3d09f622a8a329f45fa83799a630146ef2a"
      },
      "cell_type": "markdown",
      "source": "### Row addition:"
    },
    {
      "metadata": {
        "trusted": true,
        "_uuid": "5acade5a4a3783dcddf86337bd5cba2cd4719848"
      },
      "cell_type": "code",
      "source": "new_student = pd.DataFrame(data = [['Ben',79,89]], \n                           columns=['Name','Maths','Science'], \n                           index=[5])\n\nDF = DF.append(new_student)             # Using the append method added a new column.\nprint(DF)",
      "execution_count": 55,
      "outputs": [
        {
          "output_type": "stream",
          "text": "     Name  Maths  Science\n0    Mark     89       78\n1     Tom     87       88\n2  Monika     83       66\n3   Lilly     78        0\n4     Sam     77       88\n5     Ben     79       89\n",
          "name": "stdout"
        }
      ]
    },
    {
      "metadata": {
        "_uuid": "81925c33857ecbd18acc07e04bbe8e7146378856"
      },
      "cell_type": "markdown",
      "source": "### Row deletion:"
    },
    {
      "metadata": {
        "trusted": true,
        "_uuid": "742d84238f89d5d958d464afa1a694d07e9938b9"
      },
      "cell_type": "code",
      "source": "# We delete using the drop method and we use index label for deleting:\nDF.drop(3)\nprint(DF)",
      "execution_count": 57,
      "outputs": [
        {
          "output_type": "stream",
          "text": "     Name  Maths  Science\n0    Mark     89       78\n1     Tom     87       88\n2  Monika     83       66\n3   Lilly     78        0\n4     Sam     77       88\n5     Ben     79       89\n",
          "name": "stdout"
        }
      ]
    },
    {
      "metadata": {
        "_uuid": "89df907c2d1aadd60b69948a4dd85f1aac0e3095"
      },
      "cell_type": "markdown",
      "source": "#### More Information:"
    },
    {
      "metadata": {
        "_uuid": "bea90cd33ac849fa34991752520972fd95f3204b"
      },
      "cell_type": "markdown",
      "source": "[DataFrame](http://pandas.pydata.org/pandas-docs/version/0.23.4/generated/pandas.DataFrame.html)"
    }
  ],
  "metadata": {
    "kernelspec": {
      "display_name": "Python 3",
      "language": "python",
      "name": "python3"
    },
    "language_info": {
      "name": "python",
      "version": "3.6.6",
      "mimetype": "text/x-python",
      "codemirror_mode": {
        "name": "ipython",
        "version": 3
      },
      "pygments_lexer": "ipython3",
      "nbconvert_exporter": "python",
      "file_extension": ".py"
    }
  },
  "nbformat": 4,
  "nbformat_minor": 1
}