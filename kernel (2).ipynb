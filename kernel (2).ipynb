{
  "cells": [
    {
      "metadata": {
        "_cell_guid": "79c7e3d0-c299-4dcb-8224-4455121ee9b0",
        "collapsed": true,
        "_uuid": "d629ff2d2480ee46fbb7e2d37f6b5fab8052498a",
        "trusted": false
      },
      "cell_type": "markdown",
      "source": "---\ntitle: DataFrame Operations and Methods\n---"
    },
    {
      "metadata": {
        "_uuid": "468e1ef33704a70099d73eb8df23222bb6b941ef"
      },
      "cell_type": "markdown",
      "source": "## DataFrame basic functionalities:"
    },
    {
      "metadata": {
        "_uuid": "6d27eed3c49d68bf97f451382a5f2dcc8b833e03"
      },
      "cell_type": "markdown",
      "source": "In the previous `DataFrame` section we had a breif look at the different ways to create a DataFrame and different manipulation operations associated with it. In this section we will go little further and perform some more operations with DataFrame.\n\nDataFrame is a very powerful object, comes with so many pre built methods to help computation easier and we will check some of those method and get familier with them."
    },
    {
      "metadata": {
        "trusted": true,
        "_uuid": "5cc9f8637fc9646b03c5192f866830c9a7d666ef"
      },
      "cell_type": "markdown",
      "source": "Lets creat a score sheet DataFrame. "
    },
    {
      "metadata": {
        "trusted": true,
        "_uuid": "fbe1ccdf3ee8fac0adf37ad32253400803ffa18d",
        "scrolled": true
      },
      "cell_type": "code",
      "source": "import numpy as np\nimport pandas as pd\n\nran = np.random.randint\nscores = {'Name': ['Mark','Tom','Lilly','Ben','Monika'],\n          'Maths': ran(70,80,5),\n          'Science': ran(70,90,5), \n          'English': ran(70,90,5),\n          'Computer': ran(70,90,5),\n          'History': ran(70,90,5)}\nresult = pd.DataFrame(scores)\nprint(result)",
      "execution_count": 32,
      "outputs": [
        {
          "output_type": "stream",
          "text": "     Name  Maths  Science  English  Computer  History\n0    Mark     74       76       80        82       87\n1     Tom     72       73       75        82       81\n2   Lilly     75       81       77        76       82\n3     Ben     73       81       85        78       74\n4  Monika     79       81       85        82       74\n",
          "name": "stdout"
        }
      ]
    },
    {
      "metadata": {
        "trusted": true,
        "_uuid": "af3503e9a065e13ee7fd3c1db9e8a1f091d2970e"
      },
      "cell_type": "markdown",
      "source": "Now our DataFrame `result` is ready. We will have a look at some of their attributes and the associated methods:"
    },
    {
      "metadata": {
        "_uuid": "f25351808853b56c940c583ee872d544747c9fa9"
      },
      "cell_type": "markdown",
      "source": "`head()`:  retruns the top 5 records. if argument is passed then it returns that many records from  the top."
    },
    {
      "metadata": {
        "trusted": true,
        "_uuid": "5327edb07fbc765c3f644881d0c243f777d70f9b"
      },
      "cell_type": "code",
      "source": "print(result.head(3))",
      "execution_count": 35,
      "outputs": [
        {
          "output_type": "stream",
          "text": "    Name  Maths  Science  English  Computer  History\n0   Mark     74       76       80        82       87\n1    Tom     72       73       75        82       81\n2  Lilly     75       81       77        76       82\n",
          "name": "stdout"
        }
      ]
    },
    {
      "metadata": {
        "_uuid": "9b41bf4e73f2410faa06fe02ae5b5809ff291040"
      },
      "cell_type": "markdown",
      "source": "`tail()`:  retruns the bottom 5 records. if argument is passed then it returns that many records from  the bottom."
    },
    {
      "metadata": {
        "trusted": true,
        "_uuid": "1b05750c8a095dacecbc73942eeea946a3bc01da"
      },
      "cell_type": "code",
      "source": "print(result.tail(2))",
      "execution_count": 36,
      "outputs": [
        {
          "output_type": "stream",
          "text": "     Name  Maths  Science  English  Computer  History\n3     Ben     73       81       85        78       74\n4  Monika     79       81       85        82       74\n",
          "name": "stdout"
        }
      ]
    },
    {
      "metadata": {
        "trusted": true,
        "_uuid": "4bb931119c8563966a4bf01c480e0e553033d297"
      },
      "cell_type": "markdown",
      "source": "`columns`: As you might notice that we are not calling any method here because column is not a method and is a attribute of DataFrame. It stores all the column names as a index list "
    },
    {
      "metadata": {
        "trusted": true,
        "_uuid": "e0dd012f54f718c6e011dae409f8022d8bccbc2b"
      },
      "cell_type": "code",
      "source": "result.columns",
      "execution_count": 79,
      "outputs": [
        {
          "output_type": "execute_result",
          "execution_count": 79,
          "data": {
            "text/plain": "Index(['Name', 'Maths', 'Science', 'English', 'Computer', 'History'], dtype='object')"
          },
          "metadata": {}
        }
      ]
    },
    {
      "metadata": {
        "_uuid": "e16adbad9e0391970492046d5f882ebf1d5431b2"
      },
      "cell_type": "markdown",
      "source": "`index`: As like columns. DataFrames has an attribute index to store all the index label."
    },
    {
      "metadata": {
        "trusted": true,
        "_uuid": "ff46bc1b31b0ffcfeafef82c1ed7368c4e854e90"
      },
      "cell_type": "code",
      "source": "result.index",
      "execution_count": 80,
      "outputs": [
        {
          "output_type": "execute_result",
          "execution_count": 80,
          "data": {
            "text/plain": "RangeIndex(start=0, stop=5, step=1)"
          },
          "metadata": {}
        }
      ]
    },
    {
      "metadata": {
        "_uuid": "85c775721f724a76d929bd21bb8e72be67e06d96"
      },
      "cell_type": "markdown",
      "source": "`axes`: axes is an another attribute which stores both index and columns togeather. It depends on your need you can use any of those attributes. The returned object is a list."
    },
    {
      "metadata": {
        "trusted": true,
        "_uuid": "c08381147a71752484d05d0b5e56803f74256785"
      },
      "cell_type": "code",
      "source": "result.axes",
      "execution_count": 81,
      "outputs": [
        {
          "output_type": "execute_result",
          "execution_count": 81,
          "data": {
            "text/plain": "[RangeIndex(start=0, stop=5, step=1),\n Index(['Name', 'Maths', 'Science', 'English', 'Computer', 'History'], dtype='object')]"
          },
          "metadata": {}
        }
      ]
    },
    {
      "metadata": {
        "_uuid": "c32d3ac14c36933de71dd4d07326cb91188fcb99"
      },
      "cell_type": "markdown",
      "source": "`dtypes`: An attribute which gives the detail of all the columns object type. "
    },
    {
      "metadata": {
        "trusted": true,
        "_uuid": "68d410639871fae0c43c89e96b467a56f30e5180"
      },
      "cell_type": "code",
      "source": "result.dtypes",
      "execution_count": 82,
      "outputs": [
        {
          "output_type": "execute_result",
          "execution_count": 82,
          "data": {
            "text/plain": "Name        object\nMaths        int64\nScience      int64\nEnglish      int64\nComputer     int64\nHistory      int64\ndtype: object"
          },
          "metadata": {}
        }
      ]
    },
    {
      "metadata": {
        "_uuid": "84f46688751144368b07e60c04adafdad0c234f6"
      },
      "cell_type": "markdown",
      "source": "`shape`: shape is a tuple with stores the shape of the DataFrame as (rows,columns)"
    },
    {
      "metadata": {
        "trusted": true,
        "_uuid": "29074345f3fa82bdc11be5ec08d9f9d93ba82b8f"
      },
      "cell_type": "code",
      "source": "result.shape",
      "execution_count": 83,
      "outputs": [
        {
          "output_type": "execute_result",
          "execution_count": 83,
          "data": {
            "text/plain": "(5, 6)"
          },
          "metadata": {}
        }
      ]
    },
    {
      "metadata": {
        "_uuid": "f81e51bfe943ead00acb5c111922dfcbecb8bbf5"
      },
      "cell_type": "markdown",
      "source": "`size`: size returns the total number of elements in a dataframe. In our `result` dataframe we have 5 rows and 6 columns i.e 5 * 6"
    },
    {
      "metadata": {
        "trusted": true,
        "_uuid": "3ad10c4b8b00940398a9e8c41155eddf48e0c16b"
      },
      "cell_type": "code",
      "source": "result.size",
      "execution_count": 84,
      "outputs": [
        {
          "output_type": "execute_result",
          "execution_count": 84,
          "data": {
            "text/plain": "30"
          },
          "metadata": {}
        }
      ]
    },
    {
      "metadata": {
        "_uuid": "bfee1cae88dd9c7e79831cd05ab51bd1fe33416d"
      },
      "cell_type": "markdown",
      "source": "`values`: values attribute is usefull when you want the DataFrame in a ndarray format for any computing. It returns the whole dataframe in a ndarray format."
    },
    {
      "metadata": {
        "trusted": true,
        "_uuid": "7cf058646badfd6017bc598c4da927c9a660d402"
      },
      "cell_type": "code",
      "source": "result.values",
      "execution_count": 85,
      "outputs": [
        {
          "output_type": "execute_result",
          "execution_count": 85,
          "data": {
            "text/plain": "array([['Mark', 74, 76, 80, 82, 87],\n       ['Tom', 72, 73, 75, 82, 81],\n       ['Lilly', 75, 81, 77, 76, 82],\n       ['Ben', 73, 81, 85, 78, 74],\n       ['Monika', 79, 81, 85, 82, 74]], dtype=object)"
          },
          "metadata": {}
        }
      ]
    },
    {
      "metadata": {
        "_uuid": "4fcb1278385a1aedc95907091703a7d628513fc5"
      },
      "cell_type": "markdown",
      "source": "`empty`: empty have the value True if the DataFrame is empty else false. "
    },
    {
      "metadata": {
        "trusted": true,
        "_uuid": "b57b11635dd1a61ab05008f5a289271010fcc745"
      },
      "cell_type": "code",
      "source": "result.empty",
      "execution_count": 86,
      "outputs": [
        {
          "output_type": "execute_result",
          "execution_count": 86,
          "data": {
            "text/plain": "False"
          },
          "metadata": {}
        }
      ]
    },
    {
      "metadata": {
        "_uuid": "90c75bff344d6bb59e0c8a71188215ecff4b9863"
      },
      "cell_type": "markdown",
      "source": "In pandas DataFrame we have a special method `info` which provides almost all the details from the above attributs in single call. \n\n`info()`:  Retruns a detailes about the whole DataFrame. Including the types of the column and number of non-empty values etc. It is very handy to have a qucik glance about the DataFrame."
    },
    {
      "metadata": {
        "trusted": true,
        "_uuid": "9bb48ba31a3c4e3f46eb847c1572367941f2a987"
      },
      "cell_type": "code",
      "source": "result.info()",
      "execution_count": 87,
      "outputs": [
        {
          "output_type": "stream",
          "text": "<class 'pandas.core.frame.DataFrame'>\nRangeIndex: 5 entries, 0 to 4\nData columns (total 6 columns):\nName        5 non-null object\nMaths       5 non-null int64\nScience     5 non-null int64\nEnglish     5 non-null int64\nComputer    5 non-null int64\nHistory     5 non-null int64\ndtypes: int64(5), object(1)\nmemory usage: 320.0+ bytes\n",
          "name": "stdout"
        }
      ]
    },
    {
      "metadata": {
        "_uuid": "ecd9c43a7771f63cb2d9f775924da3db6db71820"
      },
      "cell_type": "markdown",
      "source": "## Statistics method in pandas"
    },
    {
      "metadata": {
        "_uuid": "0ff25cdae3964a4c5cb441fe699806371322e7b4"
      },
      "cell_type": "markdown",
      "source": "Pandas is widely used in mathamatical computation. For that pandas has many bulit in methods. Now we have a breif look at some of the methods used in statistic computations. In pandas most of these methods are associated with both Series and DataFrame. Let look at them one by one."
    },
    {
      "metadata": {
        "_uuid": "86c56475a33377a848aaa39e2d1102210b0afec6"
      },
      "cell_type": "markdown",
      "source": "`count()`: As the name sys count returns the total number of no-null values in a DataFrame or Series."
    },
    {
      "metadata": {
        "trusted": true,
        "_uuid": "4d3a85041deb232228c2bbccf098e5d55dd4b8ce"
      },
      "cell_type": "code",
      "source": "result.count()",
      "execution_count": 88,
      "outputs": [
        {
          "output_type": "execute_result",
          "execution_count": 88,
          "data": {
            "text/plain": "Name        5\nMaths       5\nScience     5\nEnglish     5\nComputer    5\nHistory     5\ndtype: int64"
          },
          "metadata": {}
        }
      ]
    },
    {
      "metadata": {
        "_uuid": "17c547a521020d2667101c3c98101c90709863fc"
      },
      "cell_type": "markdown",
      "source": "`sum()`: Sum adds all the values even the string values. As you can see in the below result, Name are concatenated it is the `operator overloading`property of python that the operator can be used with any type of operent."
    },
    {
      "metadata": {
        "trusted": true,
        "scrolled": false,
        "_uuid": "fbcceb71fc590fa55893f7048125f81689df1fc2"
      },
      "cell_type": "code",
      "source": "result.sum()",
      "execution_count": 89,
      "outputs": [
        {
          "output_type": "execute_result",
          "execution_count": 89,
          "data": {
            "text/plain": "Name        MarkTomLillyBenMonika\nMaths                         373\nScience                       392\nEnglish                       402\nComputer                      400\nHistory                       398\ndtype: object"
          },
          "metadata": {}
        }
      ]
    },
    {
      "metadata": {
        "_uuid": "978510d1fdf8010e5e96ec859cadf8fc8d45126c"
      },
      "cell_type": "markdown",
      "source": "A logical question might arise here that what I want to know the sum of socres of each student. Yes, We can achieve that by using a argument in all the statistics method called `axis`. In `axis` we can specify in which axis(row or column) we want to sum the values. Example below:"
    },
    {
      "metadata": {
        "trusted": true,
        "_uuid": "c090c4cec870bcf562d100ab3026721237b23c04"
      },
      "cell_type": "code",
      "source": "result.sum(axis=1)",
      "execution_count": 90,
      "outputs": [
        {
          "output_type": "execute_result",
          "execution_count": 90,
          "data": {
            "text/plain": "0    399\n1    383\n2    391\n3    391\n4    401\ndtype: int64"
          },
          "metadata": {}
        }
      ]
    },
    {
      "metadata": {
        "_uuid": "c3c198bc9694f1e146686579eda76d7dec20eb3d"
      },
      "cell_type": "markdown",
      "source": "`mean()`: returns the mean of the values. As like sum() method we can perform both in column or row levels. It is only applied to numeric columns.  "
    },
    {
      "metadata": {
        "trusted": true,
        "_uuid": "994fc8a86e057cf9dfcfb4d83ddc530a4d1099f1"
      },
      "cell_type": "code",
      "source": "result.mean()",
      "execution_count": 91,
      "outputs": [
        {
          "output_type": "execute_result",
          "execution_count": 91,
          "data": {
            "text/plain": "Maths       74.6\nScience     78.4\nEnglish     80.4\nComputer    80.0\nHistory     79.6\ndtype: float64"
          },
          "metadata": {}
        }
      ]
    },
    {
      "metadata": {
        "_uuid": "f188edec6d990bcb9c38406d7b4cb340a610037b"
      },
      "cell_type": "markdown",
      "source": "`median()`: Same as mean we have the other important statistical variale median. It retruns the medain of the values."
    },
    {
      "metadata": {
        "trusted": true,
        "_uuid": "6da9c6e16c25d4426d3a8f3ecfc14cd799cfbb3f"
      },
      "cell_type": "code",
      "source": "result.median()",
      "execution_count": 92,
      "outputs": [
        {
          "output_type": "execute_result",
          "execution_count": 92,
          "data": {
            "text/plain": "Maths       74.0\nScience     81.0\nEnglish     80.0\nComputer    82.0\nHistory     81.0\ndtype: float64"
          },
          "metadata": {}
        }
      ]
    },
    {
      "metadata": {
        "_uuid": "47a54b180c32d21c81cdc0474f53afa609f76086"
      },
      "cell_type": "markdown",
      "source": "`mode()` Mode is the value which occured most of the time in a value set. "
    },
    {
      "metadata": {
        "trusted": true,
        "_uuid": "682828f698a33df8fdd85ca31d98d8ba1b4a1bbd"
      },
      "cell_type": "code",
      "source": "print(result['Maths'].mode())",
      "execution_count": 93,
      "outputs": [
        {
          "output_type": "stream",
          "text": "0    72\n1    73\n2    74\n3    75\n4    79\ndtype: int64\n",
          "name": "stdout"
        }
      ]
    },
    {
      "metadata": {
        "_uuid": "d44cdad55941404a99690fd78541a4a905c94cb6"
      },
      "cell_type": "markdown",
      "source": "`std()`:  std or standard deviation tells us how much the values are spread across. As like mean or meidan it is applicable only to the numeric columns."
    },
    {
      "metadata": {
        "trusted": true,
        "_uuid": "53f4bad02365a5c7de82a386696a62294e8799e4"
      },
      "cell_type": "code",
      "source": "result.std()",
      "execution_count": 94,
      "outputs": [
        {
          "output_type": "execute_result",
          "execution_count": 94,
          "data": {
            "text/plain": "Maths       2.701851\nScience     3.714835\nEnglish     4.560702\nComputer    2.828427\nHistory     5.594640\ndtype: float64"
          },
          "metadata": {}
        }
      ]
    },
    {
      "metadata": {
        "_uuid": "6081513e6f0e384ccacde35383c8ff4be4869eb6"
      },
      "cell_type": "markdown",
      "source": "`max()`: As the name says. returns the max value from a set of values. Lets find out the max score of each subjects."
    },
    {
      "metadata": {
        "trusted": true,
        "_uuid": "287db7b2c2a9cdc1952bd6b7bf8aa0c4f8e88590"
      },
      "cell_type": "code",
      "source": "result.max()",
      "execution_count": 95,
      "outputs": [
        {
          "output_type": "execute_result",
          "execution_count": 95,
          "data": {
            "text/plain": "Name        Tom\nMaths        79\nScience      81\nEnglish      85\nComputer     82\nHistory      87\ndtype: object"
          },
          "metadata": {}
        }
      ]
    },
    {
      "metadata": {
        "_uuid": "40983621245044d852aa6d4d7972dc573ca88fc8"
      },
      "cell_type": "markdown",
      "source": "`min()`: Similar to max. returns the min value from a set of values. Now lets find out the least scores of each students. "
    },
    {
      "metadata": {
        "trusted": true,
        "_uuid": "484317b62b24cef4b147119d88a4cd5d51f5d278"
      },
      "cell_type": "code",
      "source": "result.min(axis=1)",
      "execution_count": 96,
      "outputs": [
        {
          "output_type": "execute_result",
          "execution_count": 96,
          "data": {
            "text/plain": "0    74\n1    72\n2    75\n3    73\n4    74\ndtype: int64"
          },
          "metadata": {}
        }
      ]
    },
    {
      "metadata": {
        "_uuid": "bec4832cb77ba5fcc8bb3c9a7c2d408cd21d25d9"
      },
      "cell_type": "markdown",
      "source": "`describe()`: describe is a very handy method which gives a summary of the whole data set. It give all the above method results togeather. It is very useful to understand a the outline of the data we have."
    },
    {
      "metadata": {
        "trusted": true,
        "_uuid": "ebbb37c0ca47a64da0eaf8c89789fdf98f1b4071"
      },
      "cell_type": "code",
      "source": "print(result.describe())",
      "execution_count": 97,
      "outputs": [
        {
          "output_type": "stream",
          "text": "           Maths    Science    English   Computer   History\ncount   5.000000   5.000000   5.000000   5.000000   5.00000\nmean   74.600000  78.400000  80.400000  80.000000  79.60000\nstd     2.701851   3.714835   4.560702   2.828427   5.59464\nmin    72.000000  73.000000  75.000000  76.000000  74.00000\n25%    73.000000  76.000000  77.000000  78.000000  74.00000\n50%    74.000000  81.000000  80.000000  82.000000  81.00000\n75%    75.000000  81.000000  85.000000  82.000000  82.00000\nmax    79.000000  81.000000  85.000000  82.000000  87.00000\n",
          "name": "stdout"
        }
      ]
    },
    {
      "metadata": {
        "_uuid": "eef3b1157e2356d59d2f222036f950fda25d9a39"
      },
      "cell_type": "markdown",
      "source": "## Applying functions in Pandas"
    },
    {
      "metadata": {
        "_uuid": "d82653c0b73bf1b35ae7d8fbe7575f9c2471d73f"
      },
      "cell_type": "markdown",
      "source": "In this section we will see how can we apply a function to your DataFrame. This is very useful when yu have to do some modification to a column values or add some weight to whole DataFrame etc. There are two commonly used method availabel to apply a function to your dataset. They are differed as per how we can apply them. They are:\n\n* **apply():** apply method is used to apply a function row or column wise. \n* **applymap():** applymap method applies the function element by element.\n\nLets check them in detail."
    },
    {
      "metadata": {
        "_uuid": "fc998e2e494182b3e01fac815dc85403ea242c24"
      },
      "cell_type": "markdown",
      "source": "### apply() method:"
    },
    {
      "metadata": {
        "_uuid": "0170a20fc564fa624e40632326a69ddd26b6eb7d"
      },
      "cell_type": "markdown",
      "source": "Apply method is available in both DataFrame and Series objects. It differs based on the object. "
    },
    {
      "metadata": {
        "_uuid": "6f3648657ea813c9f68df631cae2d7ce05ddb6d0"
      },
      "cell_type": "markdown",
      "source": "## apply() method in DataFrame:"
    },
    {
      "metadata": {
        "_uuid": "68ce18f1f1b6837318d3cdd1f4bf7678d2bca793"
      },
      "cell_type": "markdown",
      "source": "When the DataFrame applied method is used it splits the DataFrame into series and passes them to the applied function. We can specify the axis to perform either row or column wise. Example below:"
    },
    {
      "metadata": {
        "trusted": true,
        "_uuid": "30d52a180408f46c220bd10f5f96fb820363449c"
      },
      "cell_type": "code",
      "source": "result[['Maths','Science','English']].apply(np.mean)",
      "execution_count": 98,
      "outputs": [
        {
          "output_type": "execute_result",
          "execution_count": 98,
          "data": {
            "text/plain": "Maths      74.6\nScience    78.4\nEnglish    80.4\ndtype: float64"
          },
          "metadata": {}
        }
      ]
    },
    {
      "metadata": {
        "_uuid": "aa73c18bf2f6e13b6495acb980e05b83b22ab195"
      },
      "cell_type": "markdown",
      "source": "## apply() method in Series:"
    },
    {
      "metadata": {
        "_uuid": "38e49bd12eabf07fe2ee3ccc6d14a212c3c726c2"
      },
      "cell_type": "markdown",
      "source": "When we use the `apply` method in the Series, each element is passed as a input to the function. So, you can perform only element wise operation. For instance take a scenario when you have give everyone 2 extra scores in Maths then we can use the apply method with the math score series. Example:"
    },
    {
      "metadata": {
        "trusted": true,
        "_uuid": "8d97b9bc74daee00854ef2fbc56e18790f314f7a"
      },
      "cell_type": "code",
      "source": "print('Before giving the extra score: \\n{}'.format(result['Maths']))\n\nnew_score = result['Maths'].apply(lambda x: x+2)\nprint('\\nAfter giving the extra scores: \\n{}'.format(new_score))\n",
      "execution_count": 99,
      "outputs": [
        {
          "output_type": "stream",
          "text": "Before giving the extra score: \n0    74\n1    72\n2    75\n3    73\n4    79\nName: Maths, dtype: int64\n\nAfter giving the extra scores: \n0    76\n1    74\n2    77\n3    75\n4    81\nName: Maths, dtype: int64\n",
          "name": "stdout"
        }
      ]
    },
    {
      "metadata": {
        "_uuid": "8e87ad31552ed1c89831eea8932a581515886352"
      },
      "cell_type": "markdown",
      "source": "### applymap() method:"
    },
    {
      "metadata": {
        "_uuid": "a0ca9a56bfef633db277af65d97b337645546b9c"
      },
      "cell_type": "markdown",
      "source": "`applymap` is a DataFrame method. It is used when you have apply a fuction to all the elements in your DataFrame. It passes element by element to the applying function. Example: Lets add 2 extra scores to all the subjects."
    },
    {
      "metadata": {
        "trusted": true,
        "_uuid": "6439fe2a5cd465a0682d0bbcec40a51cc7ffd55b"
      },
      "cell_type": "code",
      "source": "sub = result.iloc[:,1:]       #taking only the subject values not the Names\n\nprint('Before giving the extra score: \\n{}'.format(sub))\n\nnew_score = sub.apply(lambda x: x+2)\nprint('\\nAfter giving the extra scores: \\n{}'.format(new_score))",
      "execution_count": 100,
      "outputs": [
        {
          "output_type": "stream",
          "text": "Before giving the extra score: \n   Maths  Science  English  Computer  History\n0     74       76       80        82       87\n1     72       73       75        82       81\n2     75       81       77        76       82\n3     73       81       85        78       74\n4     79       81       85        82       74\n\nAfter giving the extra scores: \n   Maths  Science  English  Computer  History\n0     76       78       82        84       89\n1     74       75       77        84       83\n2     77       83       79        78       84\n3     75       83       87        80       76\n4     81       83       87        84       76\n",
          "name": "stdout"
        }
      ]
    },
    {
      "metadata": {
        "_uuid": "2322f8af55ab899e8c8e930936bf08c29ee782c6"
      },
      "cell_type": "markdown",
      "source": "#### More Information:"
    },
    {
      "metadata": {
        "_uuid": "b7b3e2529454b4f2f941d2e9162f90938eec0238"
      },
      "cell_type": "markdown",
      "source": "[DataFrame](http://pandas.pydata.org/pandas-docs/version/0.23.4/generated/pandas.DataFrame.html)"
    }
  ],
  "metadata": {
    "kernelspec": {
      "display_name": "Python 3",
      "language": "python",
      "name": "python3"
    },
    "language_info": {
      "name": "python",
      "version": "3.6.6",
      "mimetype": "text/x-python",
      "codemirror_mode": {
        "name": "ipython",
        "version": 3
      },
      "pygments_lexer": "ipython3",
      "nbconvert_exporter": "python",
      "file_extension": ".py"
    }
  },
  "nbformat": 4,
  "nbformat_minor": 1
}